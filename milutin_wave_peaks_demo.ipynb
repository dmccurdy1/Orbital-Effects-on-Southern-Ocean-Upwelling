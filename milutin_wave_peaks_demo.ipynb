{
 "cells": [
  {
   "cell_type": "markdown",
   "metadata": {},
   "source": [
    "The `wave_peaks()` function in the Milutin package identifies the wave peaks (either maxima, minima, or both) for a specified orbital parameter over a given range of thousands of years (kyear).\n",
    "\n",
    "# Function Overview\n",
    "\n",
    "milutin.wave_peaks(wave, kyear_range, maxima = 'both')\n",
    "\n",
    "Parameters:\n",
    "\n",
    "- `wave` (str): The orbital parameter for which to find wave peaks. Valid inputs are:\n",
    "'obliquity','eccentricity','long_peri', and 'precession'.\n",
    "- `kyear_range` (tuple or list of length 2): The bounds of the kyear range within which to find the wave peaks. This should be a tuple or list specifying the start (0th element) and end (1st element) kyear BP.\n",
    "- `maxima` optional, type:(str): Specifies whether to find maxima, minima, or both. Can be one of:\n",
    "'both' (default): Finds both maxima and minima.\n",
    "'min': Finds only minima.\n",
    "'max': Finds only maxima.\n",
    "\n",
    "Returns:\n",
    "\n",
    "- A tuple of lists where each element in the tuple is maxima and minima and each element in the list is the time in kyears BP at which a peak occurs."
   ]
  },
  {
   "cell_type": "markdown",
   "metadata": {},
   "source": [
    "# Examples"
   ]
  },
  {
   "cell_type": "code",
   "execution_count": 13,
   "metadata": {},
   "outputs": [],
   "source": [
    "import milutin as ml"
   ]
  },
  {
   "cell_type": "code",
   "execution_count": 14,
   "metadata": {},
   "outputs": [
    {
     "name": "stdout",
     "output_type": "stream",
     "text": [
      "maxima [ -9. -49. -92.]\n",
      "minima [-29. -70.]\n"
     ]
    }
   ],
   "source": [
    "# find obliquity extrema over past 100 kyears and store maxima and minima as objects\n",
    "maxima_obl, minima_obl,  = ml.wave_peaks(wave = 'obliquity', kyear_range=(100,0))\n",
    "print('maxima',maxima_obl)\n",
    "print('minima',minima_obl)"
   ]
  },
  {
   "cell_type": "code",
   "execution_count": null,
   "metadata": {},
   "outputs": [],
   "source": []
  }
 ],
 "metadata": {
  "kernelspec": {
   "display_name": "Python 3.9.12 ('base')",
   "language": "python",
   "name": "python3"
  },
  "language_info": {
   "codemirror_mode": {
    "name": "ipython",
    "version": 3
   },
   "file_extension": ".py",
   "mimetype": "text/x-python",
   "name": "python",
   "nbconvert_exporter": "python",
   "pygments_lexer": "ipython3",
   "version": "3.9.12"
  },
  "orig_nbformat": 4,
  "vscode": {
   "interpreter": {
    "hash": "3b65e61b59eed023c5077e937df0ebbd6211db258fd3c56f124932915e6b31a8"
   }
  }
 },
 "nbformat": 4,
 "nbformat_minor": 2
}
