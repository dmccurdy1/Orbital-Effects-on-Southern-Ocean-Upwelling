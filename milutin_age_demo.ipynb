{
 "cells": [
  {
   "cell_type": "markdown",
   "metadata": {},
   "source": [
    "This notebook demonstrates the usage of the `age()` function in the Milutin package, and calculates the three orbital parameters: eccentricity, obliquity, and longitude of perihelion for a given time in thousands of years BP (kyear).\n",
    "\n",
    "# Function Overview\n",
    "\n",
    "milutin.age(kyear = 0)\n",
    "\n",
    "Parameters:\n",
    "\n",
    "- `kyear` type:(float, int - positive value): The time in thousands of years (BP) for which the orbital parameters need to be calculated. Positive values indicate years in the future, and negative values indicate years in the past. Default value is modern or 0 kyears\n",
    "\n",
    "Returns:\n",
    "\n",
    "- Tuple containing the three orbital parameters:\n",
    "eccentricity (float): The orbital eccentricity at the given kyear.\n",
    "obliquity (float): The axial tilt (obliquity) at the given kyear.\n",
    "longitude_of_perihelion (float): The longitude of perihelion at the given kyear. Output values are also printed to screen."
   ]
  },
  {
   "cell_type": "markdown",
   "metadata": {},
   "source": [
    "# Examples"
   ]
  },
  {
   "cell_type": "code",
   "execution_count": 1,
   "metadata": {},
   "outputs": [],
   "source": [
    "import milutin as ml"
   ]
  },
  {
   "cell_type": "code",
   "execution_count": 3,
   "metadata": {},
   "outputs": [
    {
     "name": "stdout",
     "output_type": "stream",
     "text": [
      "at 20.0 kyr BP: \n",
      " eccentricity = 0.0190026722586541 \n",
      " obliquity = 23.129009524578112 \n",
      " longitude of perihelion = 311.6880565020781\n"
     ]
    },
    {
     "data": {
      "text/plain": [
       "(0.0190026722586541, 23.129009524578112, 311.6880565020781)"
      ]
     },
     "execution_count": 3,
     "metadata": {},
     "output_type": "execute_result"
    }
   ],
   "source": [
    "# integer kyear argument for 20 kyears BP\n",
    "ml.age(20)"
   ]
  },
  {
   "cell_type": "code",
   "execution_count": 6,
   "metadata": {},
   "outputs": [
    {
     "name": "stdout",
     "output_type": "stream",
     "text": [
      "at 11.5 kyr BP: \n",
      " eccentricity = 0.010450673851911351 \n",
      " obliquity = 22.624417774147815 \n",
      " longitude of perihelion = 486.3650758591727\n"
     ]
    },
    {
     "data": {
      "text/plain": [
       "(0.010450673851911351, 22.624417774147815, 486.3650758591727)"
      ]
     },
     "execution_count": 6,
     "metadata": {},
     "output_type": "execute_result"
    }
   ],
   "source": [
    "# float kyear argument fpr 11.5 kyears BP\n",
    "ml.age(11.5)"
   ]
  }
 ],
 "metadata": {
  "kernelspec": {
   "display_name": "Python 3.9.12 ('base')",
   "language": "python",
   "name": "python3"
  },
  "language_info": {
   "codemirror_mode": {
    "name": "ipython",
    "version": 3
   },
   "file_extension": ".py",
   "mimetype": "text/x-python",
   "name": "python",
   "nbconvert_exporter": "python",
   "pygments_lexer": "ipython3",
   "version": "3.9.12"
  },
  "orig_nbformat": 4,
  "vscode": {
   "interpreter": {
    "hash": "3b65e61b59eed023c5077e937df0ebbd6211db258fd3c56f124932915e6b31a8"
   }
  }
 },
 "nbformat": 4,
 "nbformat_minor": 2
}
